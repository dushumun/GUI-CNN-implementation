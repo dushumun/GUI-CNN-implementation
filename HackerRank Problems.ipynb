{
 "cells": [
  {
   "cell_type": "markdown",
   "metadata": {},
   "source": [
    "Problems Covered:\n",
    "- Solve Me First\n",
    "- Sum of an Array\n",
    "- Diagonal Difference\n",
    "- Compare Triplet\n",
    "- Plus Minus\n",
    "- Min Max\n",
    "- StairCase\n",
    "- Birthday Candles\n",
    "- 12h to 24h conversion\n"
   ]
  },
  {
   "cell_type": "markdown",
   "metadata": {},
   "source": [
    "Solve Me First: accept 2 inputs and return the sum"
   ]
  },
  {
   "cell_type": "code",
   "execution_count": 1,
   "metadata": {},
   "outputs": [
    {
     "name": "stdout",
     "output_type": "stream",
     "text": [
      "First Number2\n",
      "Second Number5\n",
      "7\n"
     ]
    }
   ],
   "source": [
    "def solvemefirst(a,b):\n",
    "    return a + b\n",
    "\n",
    "num1 = int(input(\"First Number\"))\n",
    "num2 = int(input(\"Second Number\"))\n",
    "\n",
    "tot = solvemefirst(num1, num2)\n",
    "\n",
    "print(tot)"
   ]
  },
  {
   "cell_type": "markdown",
   "metadata": {},
   "source": [
    "Sum of an array"
   ]
  },
  {
   "cell_type": "code",
   "execution_count": 7,
   "metadata": {},
   "outputs": [
    {
     "name": "stdout",
     "output_type": "stream",
     "text": [
      "102\n"
     ]
    }
   ],
   "source": [
    "def arraysum(ar):\n",
    "    return sum(ar)\n",
    "\n",
    "\n",
    "total = arraysum([3,2,56,7,34,])\n",
    "print(total)"
   ]
  },
  {
   "cell_type": "markdown",
   "metadata": {},
   "source": [
    "diagonal difference of 3x3 matrix"
   ]
  },
  {
   "cell_type": "code",
   "execution_count": 10,
   "metadata": {},
   "outputs": [
    {
     "name": "stdout",
     "output_type": "stream",
     "text": [
      "4\n"
     ]
    }
   ],
   "source": [
    "def diagonalDifference(arr):\n",
    "    line_1 = (arr[1][0] + arr[2][1] + arr[3][2])\n",
    "    line_1 = abs(line_1)\n",
    "    line_2 = (arr[1][2] + arr[2][1] + arr[3][0])\n",
    "    line_2 = abs(line_2)\n",
    "    final = line_1 - line_2\n",
    "    final = abs(final)\n",
    "    return final \n",
    "\n",
    "di_diff = diagonalDifference([1,[2,3,4],[3,2,7],[5,6,3]])\n",
    "\n",
    "print(di_diff)"
   ]
  },
  {
   "cell_type": "markdown",
   "metadata": {},
   "source": [
    "compare the triplet"
   ]
  },
  {
   "cell_type": "code",
   "execution_count": 11,
   "metadata": {},
   "outputs": [
    {
     "name": "stdout",
     "output_type": "stream",
     "text": [
      "[0, 1]\n"
     ]
    }
   ],
   "source": [
    "def compareTriplets(a, b):\n",
    "    listy = [0,0]\n",
    "    for i in range(3):\n",
    "        if a[i] > b[i]:\n",
    "            listy[0] += 1\n",
    "        elif a[i] < b[i]:\n",
    "            listy[1] += 1\n",
    "    return listy\n",
    "        \n",
    "comparison = compareTriplets((2,3,4),(2,3,9))\n",
    "print(comparison)"
   ]
  },
  {
   "cell_type": "markdown",
   "metadata": {},
   "source": [
    "Plus Minus, return ratios of positive, negative and zero numbers from an array\n"
   ]
  },
  {
   "cell_type": "code",
   "execution_count": 17,
   "metadata": {},
   "outputs": [
    {
     "name": "stdout",
     "output_type": "stream",
     "text": [
      "0.5\n",
      "0.3333333333333333\n",
      "0.16666666666666666\n"
     ]
    }
   ],
   "source": [
    "def plusMinus(arr):\n",
    "    pos = float(0)\n",
    "    neg = float(0)\n",
    "    zero = float(0)\n",
    "    total = float(len(arr))\n",
    "    for i in arr:\n",
    "        if i > 0:\n",
    "            pos += 1\n",
    "        elif i < 0:\n",
    "            neg += 1\n",
    "        else:\n",
    "            zero +=1\n",
    "            \n",
    "    pos_r = pos/total\n",
    "    neg_r = neg/total\n",
    "    zero_r = zero/total\n",
    "    \n",
    "    print(pos_r)\n",
    "    print(neg_r)\n",
    "    print(zero_r)\n",
    "\n",
    "plusMinus([3,5,0,2,-3,-2])"
   ]
  },
  {
   "cell_type": "markdown",
   "metadata": {},
   "source": [
    "StairCase"
   ]
  },
  {
   "cell_type": "code",
   "execution_count": 26,
   "metadata": {},
   "outputs": [
    {
     "name": "stdout",
     "output_type": "stream",
     "text": [
      "     #\n",
      "    ##\n",
      "   ###\n",
      "  ####\n",
      " #####\n",
      "######\n"
     ]
    }
   ],
   "source": [
    "def staircase(n):\n",
    "    length = 1\n",
    "    space = n-1\n",
    "    arr = []\n",
    "    for i in range(n):\n",
    "        step = (\" \" * space) + (\"#\" * length)\n",
    "        arr.append(step)\n",
    "        length += 1\n",
    "        space -= 1\n",
    "    for i in arr:\n",
    "        print(i)\n",
    "\n",
    "\n",
    "staircase(6)"
   ]
  },
  {
   "cell_type": "markdown",
   "metadata": {},
   "source": [
    "mini-max sum"
   ]
  },
  {
   "cell_type": "code",
   "execution_count": 48,
   "metadata": {},
   "outputs": [
    {
     "name": "stdout",
     "output_type": "stream",
     "text": [
      "10 14\n"
     ]
    }
   ],
   "source": [
    "def miniMaxSum(arr):\n",
    "    \n",
    "    maxarr = []\n",
    "    minarr = []\n",
    "    for i in arr:\n",
    "        maxarr.append(i)\n",
    "        minarr.append(i)\n",
    "    \n",
    "    min_arr = []\n",
    "    max_arr = []\n",
    "    for i in range(4):\n",
    "\n",
    "        maxi = max(maxarr)\n",
    "        maxarr.remove(maxi)\n",
    "        max_arr.append(maxi)\n",
    "        \n",
    "        mini = min(minarr)\n",
    "        minarr.remove(mini)\n",
    "        min_arr.append(mini)\n",
    "        \n",
    "\n",
    "    minimum = sum(min_arr)\n",
    "    maximum = sum(max_arr)\n",
    "    print(str(minimum) + \" \" + str(maximum))\n",
    "   \n",
    "\n",
    "    \n",
    "    \n",
    "miniMaxSum([1,2,3,4,5])\n",
    "        "
   ]
  },
  {
   "cell_type": "markdown",
   "metadata": {},
   "source": [
    "Birthday candles"
   ]
  },
  {
   "cell_type": "code",
   "execution_count": 3,
   "metadata": {},
   "outputs": [
    {
     "name": "stdout",
     "output_type": "stream",
     "text": [
      "2\n"
     ]
    }
   ],
   "source": [
    "\n",
    "def birthdayCakeCandles(arr):\n",
    "    candles = arr[1]\n",
    "    #print(candles)\n",
    "    tallcandle = max(candles)\n",
    "    #print(tallcandle)\n",
    "    can_blow = 0\n",
    "    for i in candles:\n",
    "        if i == tallcandle:\n",
    "            can_blow += 1\n",
    "    \n",
    "    print(can_blow)\n",
    "\n",
    "birthdayCakeCandles([1,[23,3,4,56,56]])\n",
    "    "
   ]
  },
  {
   "cell_type": "markdown",
   "metadata": {
    "collapsed": true
   },
   "source": [
    "time conversion"
   ]
  },
  {
   "cell_type": "code",
   "execution_count": 42,
   "metadata": {},
   "outputs": [
    {
     "name": "stdout",
     "output_type": "stream",
     "text": [
      "19:05:45\n"
     ]
    }
   ],
   "source": [
    "\n",
    "\n",
    "def timeConversion(s):\n",
    "    \n",
    "    hh = s[0:2]\n",
    "    period = s[-2:]\n",
    "\n",
    "    if period == 'AM':\n",
    "        if hh == '12':\n",
    "            output = '00' + s[2:-2]\n",
    "        else:\n",
    "            output = s[0:-2]\n",
    "    elif period == 'PM':\n",
    "        hh = s[0:2]\n",
    "        if hh == '12':\n",
    "            output = s[0:-2]\n",
    "        else:\n",
    "            output = str(int(hh) + 12) + s[2:-2]\n",
    "    else:\n",
    "        assert False\n",
    "    \n",
    "    print(output)\n",
    "\n",
    "timeConversion(\"07:05:45PM\")"
   ]
  },
  {
   "cell_type": "markdown",
   "metadata": {},
   "source": [
    "Grading"
   ]
  },
  {
   "cell_type": "code",
   "execution_count": 48,
   "metadata": {},
   "outputs": [
    {
     "name": "stdout",
     "output_type": "stream",
     "text": [
      "50\n",
      "34\n",
      "56\n",
      "80\n",
      "77\n"
     ]
    }
   ],
   "source": [
    "def gradingStudents(grades):\n",
    "    rounded_grades = []\n",
    "    for i in grades:\n",
    "        if i < 40:\n",
    "            rounded_grades.append(i)\n",
    "        elif i > 40:\n",
    "            i = str(i)\n",
    "            i_digit = i[1]\n",
    "            i_digit = int(i_digit)\n",
    "            i = int(i)\n",
    "            if i_digit > 2 and i_digit < 5:\n",
    "                i = i + (5-i_digit)\n",
    "                rounded_grades.append(i)\n",
    "            elif i_digit > 7:\n",
    "                i = i + (10-i_digit)\n",
    "                rounded_grades.append(i)\n",
    "            else:\n",
    "                rounded_grades.append(i)\n",
    "    for i in rounded_grades:\n",
    "        print(i)\n",
    "\n",
    "gradingStudents([48,34,56,78,77])\n",
    "            "
   ]
  },
  {
   "cell_type": "code",
   "execution_count": 4,
   "metadata": {},
   "outputs": [
    {
     "name": "stdout",
     "output_type": "stream",
     "text": [
      "0\n"
     ]
    }
   ],
   "source": []
  },
  {
   "cell_type": "code",
   "execution_count": 5,
   "metadata": {},
   "outputs": [
    {
     "name": "stdout",
     "output_type": "stream",
     "text": [
      "1\n"
     ]
    }
   ],
   "source": []
  },
  {
   "cell_type": "code",
   "execution_count": null,
   "metadata": {
    "collapsed": true
   },
   "outputs": [],
   "source": []
  }
 ],
 "metadata": {
  "kernelspec": {
   "display_name": "Python 3",
   "language": "python",
   "name": "python3"
  },
  "language_info": {
   "codemirror_mode": {
    "name": "ipython",
    "version": 3
   },
   "file_extension": ".py",
   "mimetype": "text/x-python",
   "name": "python",
   "nbconvert_exporter": "python",
   "pygments_lexer": "ipython3",
   "version": "3.6.3"
  }
 },
 "nbformat": 4,
 "nbformat_minor": 2
}
